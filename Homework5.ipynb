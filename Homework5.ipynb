{
 "cells": [
  {
   "cell_type": "code",
   "execution_count": null,
   "id": "dad84e8e-bad8-4535-8625-7796309bbc1b",
   "metadata": {},
   "outputs": [],
   "source": [
    "#Annika McGinnis\n",
    "\n",
    "from dotenv import load_dotenv\n",
    "import os"
   ]
  },
  {
   "cell_type": "code",
   "execution_count": 16,
   "id": "062eae09-331d-4502-ac0e-85ed5554bba9",
   "metadata": {},
   "outputs": [],
   "source": [
    "API_KEY = os.getenv(\"API_KEY_TOMORROW\")"
   ]
  },
  {
   "cell_type": "code",
   "execution_count": null,
   "id": "305028c5-3139-4334-824c-f374b888c79e",
   "metadata": {},
   "outputs": [],
   "source": [
    "#1. Examine both Open Meteo and Tomorrow and decide which one you'd prefer to use. What drove your decision?\n",
    "\n",
    "#I chose Tomorrow because I was intrigued by the Data Catalog, which shows examples of different kinds of weather information I could access through this API including topics like Solar, Fire and Flood. I could think of stories immediately that could be related to some of these topics. "
   ]
  },
  {
   "cell_type": "code",
   "execution_count": null,
   "id": "d9c9ec78-1d50-4dbe-8354-736348368b34",
   "metadata": {},
   "outputs": [],
   "source": [
    "#2. What is the URL to the documentation? (You don't use code for this one)\n",
    "\n",
    "URL = https://docs.tomorrow.io/reference/intro/getting-started?_gl=1*1rnxt29*_gcl_au*NTc5NTI2Mjg5LjE3MzExNjc5NjQ."
   ]
  },
  {
   "cell_type": "code",
   "execution_count": null,
   "id": "45705091-4c13-423d-bb23-49c61b83cc77",
   "metadata": {},
   "outputs": [],
   "source": [
    "#3. Make a request for the current weather where you are born, or somewhere you've lived."
   ]
  },
  {
   "cell_type": "code",
   "execution_count": 17,
   "id": "d8bcc233-0ecd-476b-8cf5-1e84007663a1",
   "metadata": {},
   "outputs": [
    {
     "data": {
      "text/plain": [
       "<Response [200]>"
      ]
     },
     "execution_count": 17,
     "metadata": {},
     "output_type": "execute_result"
    }
   ],
   "source": [
    "import requests\n",
    "\n",
    "url = f\"https://api.tomorrow.io/v4/weather/realtime?location=kampala&apikey={API_KEY}\"\n",
    "response = requests.get(url)\n",
    "response"
   ]
  },
  {
   "cell_type": "code",
   "execution_count": 18,
   "id": "50c36ea1-6deb-4182-b229-0dd9ba262c4b",
   "metadata": {},
   "outputs": [
    {
     "data": {
      "text/plain": [
       "{'data': {'time': '2024-11-09T19:50:00Z',\n",
       "  'values': {'cloudBase': 3.05,\n",
       "   'cloudCeiling': 3.22,\n",
       "   'cloudCover': 100,\n",
       "   'dewPoint': 17.5,\n",
       "   'freezingRainIntensity': 0,\n",
       "   'humidity': 67.83,\n",
       "   'precipitationProbability': 0,\n",
       "   'pressureSurfaceLevel': 879.73,\n",
       "   'rainIntensity': 0,\n",
       "   'sleetIntensity': 0,\n",
       "   'snowIntensity': 0,\n",
       "   'temperature': 23.81,\n",
       "   'temperatureApparent': 23.81,\n",
       "   'uvHealthConcern': 0,\n",
       "   'uvIndex': 0,\n",
       "   'visibility': 15.32,\n",
       "   'weatherCode': 1001,\n",
       "   'windDirection': 268,\n",
       "   'windGust': 3.45,\n",
       "   'windSpeed': 1.95}},\n",
       " 'location': {'lat': 0.3177137076854706,\n",
       "  'lon': 32.58135223388672,\n",
       "  'name': 'Kampala, Central Region, Uganda',\n",
       "  'type': 'administrative'}}"
      ]
     },
     "execution_count": 18,
     "metadata": {},
     "output_type": "execute_result"
    }
   ],
   "source": [
    "data = response.json()\n",
    "data"
   ]
  },
  {
   "cell_type": "code",
   "execution_count": null,
   "id": "b8fd7066-7a15-422b-a41f-2a72fec9a70f",
   "metadata": {},
   "outputs": [],
   "source": [
    "#4. Print out the country this location is in."
   ]
  },
  {
   "cell_type": "code",
   "execution_count": 15,
   "id": "69900e06-0c33-4c44-9606-94039fe57b00",
   "metadata": {},
   "outputs": [
    {
     "data": {
      "text/plain": [
       "dict_keys(['data', 'location'])"
      ]
     },
     "execution_count": 15,
     "metadata": {},
     "output_type": "execute_result"
    }
   ],
   "source": [
    "data.keys()"
   ]
  },
  {
   "cell_type": "code",
   "execution_count": 16,
   "id": "a7fcfbae-df75-4219-a932-9c883aed2d47",
   "metadata": {},
   "outputs": [
    {
     "data": {
      "text/plain": [
       "{'lat': 0.3177137076854706,\n",
       " 'lon': 32.58135223388672,\n",
       " 'name': 'Kampala, Central Region, Uganda',\n",
       " 'type': 'administrative'}"
      ]
     },
     "execution_count": 16,
     "metadata": {},
     "output_type": "execute_result"
    }
   ],
   "source": [
    "data['location']"
   ]
  },
  {
   "cell_type": "code",
   "execution_count": 17,
   "id": "1d0c6dfd-47a2-4e7e-92d0-eb9a4c9b040e",
   "metadata": {},
   "outputs": [
    {
     "data": {
      "text/plain": [
       "'Kampala, Central Region, Uganda'"
      ]
     },
     "execution_count": 17,
     "metadata": {},
     "output_type": "execute_result"
    }
   ],
   "source": [
    "data['location']['name']"
   ]
  },
  {
   "cell_type": "code",
   "execution_count": null,
   "id": "943c05eb-e04b-4b5e-bc71-b954edc7bf4a",
   "metadata": {},
   "outputs": [],
   "source": [
    "#5. Print out the difference between the current temperature and how warm it feels. Use \"It feels ___ degrees colder\" or \"It feels ___ degrees warmer,\" not negative numbers."
   ]
  },
  {
   "cell_type": "code",
   "execution_count": 19,
   "id": "f3133c40-b531-4aa9-bfab-0263218cc8a9",
   "metadata": {},
   "outputs": [
    {
     "data": {
      "text/plain": [
       "dict_keys(['time', 'values'])"
      ]
     },
     "execution_count": 19,
     "metadata": {},
     "output_type": "execute_result"
    }
   ],
   "source": [
    "data['data'].keys()"
   ]
  },
  {
   "cell_type": "code",
   "execution_count": 20,
   "id": "aae51ad3-3f72-4640-9cf2-6938b51a11fb",
   "metadata": {},
   "outputs": [],
   "source": [
    "current_temp = data['data']['values']['temperature']"
   ]
  },
  {
   "cell_type": "code",
   "execution_count": 22,
   "id": "fc748afe-51dd-41e4-a82d-cecc24e26c10",
   "metadata": {},
   "outputs": [
    {
     "data": {
      "text/plain": [
       "0.0"
      ]
     },
     "execution_count": 22,
     "metadata": {},
     "output_type": "execute_result"
    }
   ],
   "source": [
    "apparent_temp = data['data']['values']['temperatureApparent']\n",
    "\n",
    "difference = abs(current_temp - apparent_temp)\n",
    "difference"
   ]
  },
  {
   "cell_type": "code",
   "execution_count": 25,
   "id": "771c1e8e-33df-4f9d-ab43-99744e6a9c7e",
   "metadata": {},
   "outputs": [
    {
     "name": "stdout",
     "output_type": "stream",
     "text": [
      "It feels 0.0 degrees colder.\n"
     ]
    }
   ],
   "source": [
    "print(\"It feels\", difference, \"degrees colder.\")"
   ]
  },
  {
   "cell_type": "code",
   "execution_count": null,
   "id": "f48656ca-2ba4-40f1-ad06-c1bcbffd3309",
   "metadata": {},
   "outputs": [],
   "source": [
    "#6. What's the current temperature at Heathrow International Airport? Use the airport's IATA code to search.\n",
    "\n",
    "It's not possible to do this using the Tomorrow API. Instead, I would have to find the airport's latitude and longitude and then search by the coordinates instead, as I did below."
   ]
  },
  {
   "cell_type": "code",
   "execution_count": 19,
   "id": "3492163b-2df1-4e58-abbb-be4a0ed43949",
   "metadata": {},
   "outputs": [
    {
     "data": {
      "text/plain": [
       "<Response [200]>"
      ]
     },
     "execution_count": 19,
     "metadata": {},
     "output_type": "execute_result"
    }
   ],
   "source": [
    "url = f\"https://api.tomorrow.io/v4/weather/realtime?location=51.470020, -0.454295&apikey={API_KEY}\"\n",
    "response = requests.get(url)\n",
    "response"
   ]
  },
  {
   "cell_type": "code",
   "execution_count": 7,
   "id": "6ffeedd1-4ccd-4894-b11b-c098fbad7a48",
   "metadata": {},
   "outputs": [
    {
     "data": {
      "text/plain": [
       "{'data': {'time': '2024-11-09T18:55:00Z',\n",
       "  'values': {'cloudBase': 0.31,\n",
       "   'cloudCeiling': 0.31,\n",
       "   'cloudCover': 98,\n",
       "   'dewPoint': 5.13,\n",
       "   'freezingRainIntensity': 0,\n",
       "   'humidity': 84,\n",
       "   'precipitationProbability': 0,\n",
       "   'pressureSurfaceLevel': 1022.74,\n",
       "   'rainIntensity': 0,\n",
       "   'sleetIntensity': 0,\n",
       "   'snowIntensity': 0,\n",
       "   'temperature': 7.63,\n",
       "   'temperatureApparent': 7.63,\n",
       "   'uvHealthConcern': 0,\n",
       "   'uvIndex': 0,\n",
       "   'visibility': 16,\n",
       "   'weatherCode': 1001,\n",
       "   'windDirection': 303.19,\n",
       "   'windGust': 1.69,\n",
       "   'windSpeed': 0.88}},\n",
       " 'location': {'lat': 51.47002, 'lon': -0.454295}}"
      ]
     },
     "execution_count": 7,
     "metadata": {},
     "output_type": "execute_result"
    }
   ],
   "source": [
    "data = response.json()\n",
    "data"
   ]
  },
  {
   "cell_type": "code",
   "execution_count": null,
   "id": "5853a5af-5ea0-4cbd-87fc-20500b455fbc",
   "metadata": {},
   "outputs": [],
   "source": [
    "#7. What URL would I use to request a 3-day forecast at Heathrow?"
   ]
  },
  {
   "cell_type": "code",
   "execution_count": 8,
   "id": "df5c547f-8746-4298-917a-ce49471f6e64",
   "metadata": {},
   "outputs": [
    {
     "data": {
      "text/plain": [
       "<Response [200]>"
      ]
     },
     "execution_count": 8,
     "metadata": {},
     "output_type": "execute_result"
    }
   ],
   "source": [
    "url = \"https://api.tomorrow.io/v4/weather/forecast?location=51.470020, -0.454295&timesteps=1d&apikey=yi2jfTdsbuQ7wI51eAqaRrFIdKgueFyG\"\n",
    "response = requests.get(url)\n",
    "response"
   ]
  },
  {
   "cell_type": "code",
   "execution_count": 9,
   "id": "17f86458-c935-4a7b-88c2-1b58caa11bb4",
   "metadata": {},
   "outputs": [
    {
     "data": {
      "text/plain": [
       "{'timelines': {'daily': [{'time': '2024-11-09T06:00:00Z',\n",
       "    'values': {'cloudBaseAvg': 0.6,\n",
       "     'cloudBaseMax': 0.88,\n",
       "     'cloudBaseMin': 0.26,\n",
       "     'cloudCeilingAvg': 0.63,\n",
       "     'cloudCeilingMax': 0.97,\n",
       "     'cloudCeilingMin': 0.26,\n",
       "     'cloudCoverAvg': 93.54,\n",
       "     'cloudCoverMax': 100,\n",
       "     'cloudCoverMin': 56.25,\n",
       "     'dewPointAvg': 4.77,\n",
       "     'dewPointMax': 5.39,\n",
       "     'dewPointMin': 4.13,\n",
       "     'evapotranspirationAvg': 0.009,\n",
       "     'evapotranspirationMax': 0.016,\n",
       "     'evapotranspirationMin': 0,\n",
       "     'evapotranspirationSum': 0.21,\n",
       "     'freezingRainIntensityAvg': 0,\n",
       "     'freezingRainIntensityMax': 0,\n",
       "     'freezingRainIntensityMin': 0,\n",
       "     'humidityAvg': 83.08,\n",
       "     'humidityMax': 93,\n",
       "     'humidityMin': 71,\n",
       "     'iceAccumulationAvg': 0,\n",
       "     'iceAccumulationLweAvg': 0,\n",
       "     'iceAccumulationLweMax': 0,\n",
       "     'iceAccumulationLweMin': 0,\n",
       "     'iceAccumulationLweSum': 0,\n",
       "     'iceAccumulationMax': 0,\n",
       "     'iceAccumulationMin': 0,\n",
       "     'iceAccumulationSum': 0,\n",
       "     'moonriseTime': '2024-11-09T13:59:13Z',\n",
       "     'moonsetTime': '2024-11-09T23:41:03Z',\n",
       "     'precipitationProbabilityAvg': 0,\n",
       "     'precipitationProbabilityMax': 0,\n",
       "     'precipitationProbabilityMin': 0,\n",
       "     'pressureSurfaceLevelAvg': 1022.57,\n",
       "     'pressureSurfaceLevelMax': 1024.1,\n",
       "     'pressureSurfaceLevelMin': 1020.94,\n",
       "     'rainAccumulationAvg': 0,\n",
       "     'rainAccumulationLweAvg': 0,\n",
       "     'rainAccumulationLweMax': 0,\n",
       "     'rainAccumulationLweMin': 0,\n",
       "     'rainAccumulationMax': 0,\n",
       "     'rainAccumulationMin': 0,\n",
       "     'rainAccumulationSum': 0,\n",
       "     'rainIntensityAvg': 0,\n",
       "     'rainIntensityMax': 0,\n",
       "     'rainIntensityMin': 0,\n",
       "     'sleetAccumulationAvg': 0,\n",
       "     'sleetAccumulationLweAvg': 0,\n",
       "     'sleetAccumulationLweMax': 0,\n",
       "     'sleetAccumulationLweMin': 0,\n",
       "     'sleetAccumulationLweSum': 0,\n",
       "     'sleetAccumulationMax': 0,\n",
       "     'sleetAccumulationMin': 0,\n",
       "     'sleetIntensityAvg': 0,\n",
       "     'sleetIntensityMax': 0,\n",
       "     'sleetIntensityMin': 0,\n",
       "     'snowAccumulationAvg': 0,\n",
       "     'snowAccumulationLweAvg': 0,\n",
       "     'snowAccumulationLweMax': 0,\n",
       "     'snowAccumulationLweMin': 0,\n",
       "     'snowAccumulationLweSum': 0,\n",
       "     'snowAccumulationMax': 0,\n",
       "     'snowAccumulationMin': 0,\n",
       "     'snowAccumulationSum': 0,\n",
       "     'snowIntensityAvg': 0,\n",
       "     'snowIntensityMax': 0,\n",
       "     'snowIntensityMin': 0,\n",
       "     'sunriseTime': '2024-11-09T07:02:00Z',\n",
       "     'sunsetTime': '2024-11-09T16:29:00Z',\n",
       "     'temperatureApparentAvg': 7.54,\n",
       "     'temperatureApparentMax': 9.31,\n",
       "     'temperatureApparentMin': 5.61,\n",
       "     'temperatureAvg': 7.54,\n",
       "     'temperatureMax': 9.31,\n",
       "     'temperatureMin': 5.61,\n",
       "     'uvHealthConcernAvg': 0,\n",
       "     'uvHealthConcernMax': 0,\n",
       "     'uvHealthConcernMin': 0,\n",
       "     'uvIndexAvg': 0,\n",
       "     'uvIndexMax': 0,\n",
       "     'uvIndexMin': 0,\n",
       "     'visibilityAvg': 16,\n",
       "     'visibilityMax': 16,\n",
       "     'visibilityMin': 16,\n",
       "     'weatherCodeMax': 1001,\n",
       "     'weatherCodeMin': 1001,\n",
       "     'windDirectionAvg': 272.33,\n",
       "     'windGustAvg': 1.66,\n",
       "     'windGustMax': 3,\n",
       "     'windGustMin': 0.81,\n",
       "     'windSpeedAvg': 0.86,\n",
       "     'windSpeedMax': 1.63,\n",
       "     'windSpeedMin': 0.19}},\n",
       "   {'time': '2024-11-10T06:00:00Z',\n",
       "    'values': {'cloudBaseAvg': 1.46,\n",
       "     'cloudBaseMax': 7.29,\n",
       "     'cloudBaseMin': 0,\n",
       "     'cloudCeilingAvg': 1.76,\n",
       "     'cloudCeilingMax': 8.15,\n",
       "     'cloudCeilingMin': 0,\n",
       "     'cloudCoverAvg': 84.21,\n",
       "     'cloudCoverMax': 100,\n",
       "     'cloudCoverMin': 8.59,\n",
       "     'dewPointAvg': 8.13,\n",
       "     'dewPointMax': 10.39,\n",
       "     'dewPointMin': 5.4,\n",
       "     'evapotranspirationAvg': 0.016,\n",
       "     'evapotranspirationMax': 0.042,\n",
       "     'evapotranspirationMin': 0,\n",
       "     'evapotranspirationSum': 0.376,\n",
       "     'freezingRainIntensityAvg': 0,\n",
       "     'freezingRainIntensityMax': 0,\n",
       "     'freezingRainIntensityMin': 0,\n",
       "     'humidityAvg': 88.09,\n",
       "     'humidityMax': 96.29,\n",
       "     'humidityMin': 70.35,\n",
       "     'iceAccumulationAvg': 0,\n",
       "     'iceAccumulationLweAvg': 0,\n",
       "     'iceAccumulationLweMax': 0,\n",
       "     'iceAccumulationLweMin': 0,\n",
       "     'iceAccumulationLweSum': 0,\n",
       "     'iceAccumulationMax': 0,\n",
       "     'iceAccumulationMin': 0,\n",
       "     'iceAccumulationSum': 0,\n",
       "     'moonriseTime': '2024-11-10T14:15:56Z',\n",
       "     'moonsetTime': None,\n",
       "     'precipitationProbabilityAvg': 0.4,\n",
       "     'precipitationProbabilityMax': 5,\n",
       "     'precipitationProbabilityMin': 0,\n",
       "     'pressureSurfaceLevelAvg': 1026.78,\n",
       "     'pressureSurfaceLevelMax': 1029.94,\n",
       "     'pressureSurfaceLevelMin': 1024.33,\n",
       "     'rainAccumulationAvg': 0,\n",
       "     'rainAccumulationLweAvg': 0,\n",
       "     'rainAccumulationLweMax': 0.09,\n",
       "     'rainAccumulationLweMin': 0,\n",
       "     'rainAccumulationMax': 0,\n",
       "     'rainAccumulationMin': 0,\n",
       "     'rainAccumulationSum': 0,\n",
       "     'rainIntensityAvg': 0,\n",
       "     'rainIntensityMax': 0.09,\n",
       "     'rainIntensityMin': 0,\n",
       "     'sleetAccumulationAvg': 0,\n",
       "     'sleetAccumulationLweAvg': 0,\n",
       "     'sleetAccumulationLweMax': 0,\n",
       "     'sleetAccumulationLweMin': 0,\n",
       "     'sleetAccumulationLweSum': 0,\n",
       "     'sleetAccumulationMax': 0,\n",
       "     'sleetAccumulationMin': 0,\n",
       "     'sleetIntensityAvg': 0,\n",
       "     'sleetIntensityMax': 0,\n",
       "     'sleetIntensityMin': 0,\n",
       "     'snowAccumulationAvg': 0,\n",
       "     'snowAccumulationLweAvg': 0,\n",
       "     'snowAccumulationLweMax': 0,\n",
       "     'snowAccumulationLweMin': 0,\n",
       "     'snowAccumulationLweSum': 0,\n",
       "     'snowAccumulationMax': 0,\n",
       "     'snowAccumulationMin': 0,\n",
       "     'snowAccumulationSum': 0,\n",
       "     'snowIntensityAvg': 0,\n",
       "     'snowIntensityMax': 0,\n",
       "     'snowIntensityMin': 0,\n",
       "     'sunriseTime': '2024-11-10T07:03:00Z',\n",
       "     'sunsetTime': '2024-11-10T16:27:00Z',\n",
       "     'temperatureApparentAvg': 10.06,\n",
       "     'temperatureApparentMax': 12.5,\n",
       "     'temperatureApparentMin': 7.11,\n",
       "     'temperatureAvg': 10.06,\n",
       "     'temperatureMax': 12.5,\n",
       "     'temperatureMin': 7.11,\n",
       "     'uvHealthConcernAvg': 0,\n",
       "     'uvHealthConcernMax': 0,\n",
       "     'uvHealthConcernMin': 0,\n",
       "     'uvIndexAvg': 0,\n",
       "     'uvIndexMax': 0,\n",
       "     'uvIndexMin': 0,\n",
       "     'visibilityAvg': 15.78,\n",
       "     'visibilityMax': 16,\n",
       "     'visibilityMin': 10.72,\n",
       "     'weatherCodeMax': 1001,\n",
       "     'weatherCodeMin': 1001,\n",
       "     'windDirectionAvg': 250.59,\n",
       "     'windGustAvg': 4.47,\n",
       "     'windGustMax': 7.78,\n",
       "     'windGustMin': 1.03,\n",
       "     'windSpeedAvg': 2.49,\n",
       "     'windSpeedMax': 4.39,\n",
       "     'windSpeedMin': 0.59}},\n",
       "   {'time': '2024-11-11T06:00:00Z',\n",
       "    'values': {'cloudBaseAvg': 4.58,\n",
       "     'cloudBaseMax': 11.31,\n",
       "     'cloudBaseMin': 0,\n",
       "     'cloudCeilingAvg': 3.66,\n",
       "     'cloudCeilingMax': 11.46,\n",
       "     'cloudCeilingMin': 0,\n",
       "     'cloudCoverAvg': 55.21,\n",
       "     'cloudCoverMax': 100,\n",
       "     'cloudCoverMin': 0,\n",
       "     'dewPointAvg': 5.1,\n",
       "     'dewPointMax': 6.37,\n",
       "     'dewPointMin': 3.88,\n",
       "     'evapotranspirationAvg': 0.01,\n",
       "     'evapotranspirationMax': 0.041,\n",
       "     'evapotranspirationMin': 0,\n",
       "     'evapotranspirationSum': 0.248,\n",
       "     'freezingRainIntensityAvg': 0,\n",
       "     'freezingRainIntensityMax': 0,\n",
       "     'freezingRainIntensityMin': 0,\n",
       "     'humidityAvg': 84.67,\n",
       "     'humidityMax': 92.31,\n",
       "     'humidityMin': 67.78,\n",
       "     'iceAccumulationAvg': 0,\n",
       "     'iceAccumulationLweAvg': 0,\n",
       "     'iceAccumulationLweMax': 0,\n",
       "     'iceAccumulationLweMin': 0,\n",
       "     'iceAccumulationLweSum': 0,\n",
       "     'iceAccumulationMax': 0,\n",
       "     'iceAccumulationMin': 0,\n",
       "     'iceAccumulationSum': 0,\n",
       "     'moonriseTime': '2024-11-11T14:30:13Z',\n",
       "     'moonsetTime': '2024-11-11T01:08:54Z',\n",
       "     'precipitationProbabilityAvg': 0,\n",
       "     'precipitationProbabilityMax': 0,\n",
       "     'precipitationProbabilityMin': 0,\n",
       "     'pressureSurfaceLevelAvg': 1033.93,\n",
       "     'pressureSurfaceLevelMax': 1035.83,\n",
       "     'pressureSurfaceLevelMin': 1030.54,\n",
       "     'rainAccumulationAvg': 0,\n",
       "     'rainAccumulationLweAvg': 0,\n",
       "     'rainAccumulationLweMax': 0,\n",
       "     'rainAccumulationLweMin': 0,\n",
       "     'rainAccumulationMax': 0,\n",
       "     'rainAccumulationMin': 0,\n",
       "     'rainAccumulationSum': 0,\n",
       "     'rainIntensityAvg': 0,\n",
       "     'rainIntensityMax': 0,\n",
       "     'rainIntensityMin': 0,\n",
       "     'sleetAccumulationAvg': 0,\n",
       "     'sleetAccumulationLweAvg': 0,\n",
       "     'sleetAccumulationLweMax': 0,\n",
       "     'sleetAccumulationLweMin': 0,\n",
       "     'sleetAccumulationLweSum': 0,\n",
       "     'sleetAccumulationMax': 0,\n",
       "     'sleetAccumulationMin': 0,\n",
       "     'sleetIntensityAvg': 0,\n",
       "     'sleetIntensityMax': 0,\n",
       "     'sleetIntensityMin': 0,\n",
       "     'snowAccumulationAvg': 0,\n",
       "     'snowAccumulationLweAvg': 0,\n",
       "     'snowAccumulationLweMax': 0,\n",
       "     'snowAccumulationLweMin': 0,\n",
       "     'snowAccumulationLweSum': 0,\n",
       "     'snowAccumulationMax': 0,\n",
       "     'snowAccumulationMin': 0,\n",
       "     'snowAccumulationSum': 0,\n",
       "     'snowIntensityAvg': 0,\n",
       "     'snowIntensityMax': 0,\n",
       "     'snowIntensityMin': 0,\n",
       "     'sunriseTime': '2024-11-11T07:05:00Z',\n",
       "     'sunsetTime': '2024-11-11T16:26:00Z',\n",
       "     'temperatureApparentAvg': 7.59,\n",
       "     'temperatureApparentMax': 11.45,\n",
       "     'temperatureApparentMin': 5.12,\n",
       "     'temperatureAvg': 7.59,\n",
       "     'temperatureMax': 11.45,\n",
       "     'temperatureMin': 5.12,\n",
       "     'uvHealthConcernAvg': 0,\n",
       "     'uvHealthConcernMax': 0,\n",
       "     'uvHealthConcernMin': 0,\n",
       "     'uvIndexAvg': 0,\n",
       "     'uvIndexMax': 1,\n",
       "     'uvIndexMin': 0,\n",
       "     'visibilityAvg': 16,\n",
       "     'visibilityMax': 16,\n",
       "     'visibilityMin': 16,\n",
       "     'weatherCodeMax': 1001,\n",
       "     'weatherCodeMin': 1001,\n",
       "     'windDirectionAvg': 345.76,\n",
       "     'windGustAvg': 5.76,\n",
       "     'windGustMax': 7.23,\n",
       "     'windGustMin': 4.85,\n",
       "     'windSpeedAvg': 3.23,\n",
       "     'windSpeedMax': 3.91,\n",
       "     'windSpeedMin': 2.82}},\n",
       "   {'time': '2024-11-12T06:00:00Z',\n",
       "    'values': {'cloudBaseAvg': 1.1,\n",
       "     'cloudBaseMax': 1.58,\n",
       "     'cloudBaseMin': 0,\n",
       "     'cloudCeilingAvg': 2.19,\n",
       "     'cloudCeilingMax': 10.59,\n",
       "     'cloudCeilingMin': 0,\n",
       "     'cloudCoverAvg': 85.12,\n",
       "     'cloudCoverMax': 100,\n",
       "     'cloudCoverMin': 4.69,\n",
       "     'dewPointAvg': 5.62,\n",
       "     'dewPointMax': 6.48,\n",
       "     'dewPointMin': 4.05,\n",
       "     'evapotranspirationAvg': 0.019,\n",
       "     'evapotranspirationMax': 0.059,\n",
       "     'evapotranspirationMin': 0,\n",
       "     'evapotranspirationSum': 0.446,\n",
       "     'freezingRainIntensityAvg': 0,\n",
       "     'freezingRainIntensityMax': 0,\n",
       "     'freezingRainIntensityMin': 0,\n",
       "     'humidityAvg': 82.66,\n",
       "     'humidityMax': 92.87,\n",
       "     'humidityMin': 72.84,\n",
       "     'iceAccumulationAvg': 0,\n",
       "     'iceAccumulationLweAvg': 0,\n",
       "     'iceAccumulationLweMax': 0,\n",
       "     'iceAccumulationLweMin': 0,\n",
       "     'iceAccumulationLweSum': 0,\n",
       "     'iceAccumulationMax': 0,\n",
       "     'iceAccumulationMin': 0,\n",
       "     'iceAccumulationSum': 0,\n",
       "     'moonriseTime': '2024-11-12T14:43:26Z',\n",
       "     'moonsetTime': '2024-11-12T02:35:52Z',\n",
       "     'precipitationProbabilityAvg': 0.4,\n",
       "     'precipitationProbabilityMax': 5,\n",
       "     'precipitationProbabilityMin': 0,\n",
       "     'pressureSurfaceLevelAvg': 1030.65,\n",
       "     'pressureSurfaceLevelMax': 1034.95,\n",
       "     'pressureSurfaceLevelMin': 1025.4,\n",
       "     'rainAccumulationAvg': 0,\n",
       "     'rainAccumulationLweAvg': 0,\n",
       "     'rainAccumulationLweMax': 0.04,\n",
       "     'rainAccumulationLweMin': 0,\n",
       "     'rainAccumulationMax': 0,\n",
       "     'rainAccumulationMin': 0,\n",
       "     'rainAccumulationSum': 0,\n",
       "     'rainIntensityAvg': 0,\n",
       "     'rainIntensityMax': 0.04,\n",
       "     'rainIntensityMin': 0,\n",
       "     'sleetAccumulationAvg': 0,\n",
       "     'sleetAccumulationLweAvg': 0,\n",
       "     'sleetAccumulationLweMax': 0,\n",
       "     'sleetAccumulationLweMin': 0,\n",
       "     'sleetAccumulationLweSum': 0,\n",
       "     'sleetAccumulationMax': 0,\n",
       "     'sleetAccumulationMin': 0,\n",
       "     'sleetIntensityAvg': 0,\n",
       "     'sleetIntensityMax': 0,\n",
       "     'sleetIntensityMin': 0,\n",
       "     'snowAccumulationAvg': 0,\n",
       "     'snowAccumulationLweAvg': 0,\n",
       "     'snowAccumulationLweMax': 0,\n",
       "     'snowAccumulationLweMin': 0,\n",
       "     'snowAccumulationLweSum': 0,\n",
       "     'snowAccumulationMax': 0,\n",
       "     'snowAccumulationMin': 0,\n",
       "     'snowAccumulationSum': 0,\n",
       "     'snowIntensityAvg': 0,\n",
       "     'snowIntensityMax': 0,\n",
       "     'snowIntensityMin': 0,\n",
       "     'sunriseTime': '2024-11-12T07:06:00Z',\n",
       "     'sunsetTime': '2024-11-12T16:25:00Z',\n",
       "     'temperatureApparentAvg': 8.43,\n",
       "     'temperatureApparentMax': 10.48,\n",
       "     'temperatureApparentMin': 5.1,\n",
       "     'temperatureAvg': 8.43,\n",
       "     'temperatureMax': 10.48,\n",
       "     'temperatureMin': 5.1,\n",
       "     'uvHealthConcernAvg': 0,\n",
       "     'uvHealthConcernMax': 0,\n",
       "     'uvHealthConcernMin': 0,\n",
       "     'uvIndexAvg': 0,\n",
       "     'uvIndexMax': 0,\n",
       "     'uvIndexMin': 0,\n",
       "     'visibilityAvg': 19.56,\n",
       "     'visibilityMax': 24.14,\n",
       "     'visibilityMin': 16,\n",
       "     'weatherCodeMax': 1001,\n",
       "     'weatherCodeMin': 1001,\n",
       "     'windDirectionAvg': 79.72,\n",
       "     'windGustAvg': 9.62,\n",
       "     'windGustMax': 11.41,\n",
       "     'windGustMin': 6.35,\n",
       "     'windSpeedAvg': 4.75,\n",
       "     'windSpeedMax': 5.97,\n",
       "     'windSpeedMin': 3.65}},\n",
       "   {'time': '2024-11-13T06:00:00Z',\n",
       "    'values': {'cloudBaseAvg': 0.78,\n",
       "     'cloudBaseMax': 2.65,\n",
       "     'cloudBaseMin': 0,\n",
       "     'cloudCeilingAvg': 1.39,\n",
       "     'cloudCeilingMax': 3.64,\n",
       "     'cloudCeilingMin': 0,\n",
       "     'cloudCoverAvg': 74.92,\n",
       "     'cloudCoverMax': 100,\n",
       "     'cloudCoverMin': 5.9,\n",
       "     'dewPointAvg': 5.82,\n",
       "     'dewPointMax': 6.58,\n",
       "     'dewPointMin': 3.76,\n",
       "     'evapotranspirationAvg': 0.042,\n",
       "     'evapotranspirationMax': 0.07,\n",
       "     'evapotranspirationMin': 0.025,\n",
       "     'evapotranspirationSum': 1.019,\n",
       "     'freezingRainIntensityAvg': 0,\n",
       "     'freezingRainIntensityMax': 0,\n",
       "     'freezingRainIntensityMin': 0,\n",
       "     'humidityAvg': 86,\n",
       "     'humidityMax': 93.58,\n",
       "     'humidityMin': 79.9,\n",
       "     'iceAccumulationAvg': 0,\n",
       "     'iceAccumulationLweAvg': 0,\n",
       "     'iceAccumulationLweMax': 0,\n",
       "     'iceAccumulationLweMin': 0,\n",
       "     'iceAccumulationLweSum': 0,\n",
       "     'iceAccumulationMax': 0,\n",
       "     'iceAccumulationMin': 0,\n",
       "     'iceAccumulationSum': 0,\n",
       "     'moonriseTime': '2024-11-13T14:56:26Z',\n",
       "     'moonsetTime': '2024-11-13T04:04:01Z',\n",
       "     'precipitationProbabilityAvg': 4.4,\n",
       "     'precipitationProbabilityMax': 15,\n",
       "     'precipitationProbabilityMin': 0,\n",
       "     'pressureSurfaceLevelAvg': 1024.11,\n",
       "     'pressureSurfaceLevelMax': 1025.72,\n",
       "     'pressureSurfaceLevelMin': 1022.33,\n",
       "     'rainAccumulationAvg': 0,\n",
       "     'rainAccumulationLweAvg': 0.03,\n",
       "     'rainAccumulationLweMax': 0.16,\n",
       "     'rainAccumulationLweMin': 0,\n",
       "     'rainAccumulationMax': 0,\n",
       "     'rainAccumulationMin': 0,\n",
       "     'rainAccumulationSum': 0,\n",
       "     'rainIntensityAvg': 0.03,\n",
       "     'rainIntensityMax': 0.16,\n",
       "     'rainIntensityMin': 0,\n",
       "     'sleetAccumulationAvg': 0,\n",
       "     'sleetAccumulationLweAvg': 0,\n",
       "     'sleetAccumulationLweMax': 0,\n",
       "     'sleetAccumulationLweMin': 0,\n",
       "     'sleetAccumulationLweSum': 0,\n",
       "     'sleetAccumulationMax': 0,\n",
       "     'sleetAccumulationMin': 0,\n",
       "     'sleetIntensityAvg': 0,\n",
       "     'sleetIntensityMax': 0,\n",
       "     'sleetIntensityMin': 0,\n",
       "     'snowAccumulationAvg': 0,\n",
       "     'snowAccumulationLweAvg': 0,\n",
       "     'snowAccumulationLweMax': 0,\n",
       "     'snowAccumulationLweMin': 0,\n",
       "     'snowAccumulationLweSum': 0,\n",
       "     'snowAccumulationMax': 0,\n",
       "     'snowAccumulationMin': 0,\n",
       "     'snowAccumulationSum': 0,\n",
       "     'snowIntensityAvg': 0,\n",
       "     'snowIntensityMax': 0,\n",
       "     'snowIntensityMin': 0,\n",
       "     'sunriseTime': '2024-11-13T07:07:00Z',\n",
       "     'sunsetTime': '2024-11-13T16:24:00Z',\n",
       "     'temperatureApparentAvg': 8.05,\n",
       "     'temperatureApparentMax': 9.8,\n",
       "     'temperatureApparentMin': 5.63,\n",
       "     'temperatureAvg': 8.05,\n",
       "     'temperatureMax': 9.8,\n",
       "     'temperatureMin': 5.63,\n",
       "     'uvHealthConcernAvg': 0,\n",
       "     'uvHealthConcernMax': 0,\n",
       "     'uvHealthConcernMin': 0,\n",
       "     'uvIndexAvg': 0,\n",
       "     'uvIndexMax': 0,\n",
       "     'uvIndexMin': 0,\n",
       "     'visibilityAvg': 23.87,\n",
       "     'visibilityMax': 24.14,\n",
       "     'visibilityMin': 20.37,\n",
       "     'weatherCodeMax': 1001,\n",
       "     'weatherCodeMin': 1001,\n",
       "     'windDirectionAvg': 22.82,\n",
       "     'windGustAvg': 8.42,\n",
       "     'windGustMax': 10.4,\n",
       "     'windGustMin': 7.3,\n",
       "     'windSpeedAvg': 3.72,\n",
       "     'windSpeedMax': 4.37,\n",
       "     'windSpeedMin': 2.95}},\n",
       "   {'time': '2024-11-14T06:00:00Z',\n",
       "    'values': {'cloudBaseAvg': 1.92,\n",
       "     'cloudBaseMax': 6.51,\n",
       "     'cloudBaseMin': 0,\n",
       "     'cloudCeilingAvg': 1.09,\n",
       "     'cloudCeilingMax': 2.92,\n",
       "     'cloudCeilingMin': 0,\n",
       "     'cloudCoverAvg': 60.47,\n",
       "     'cloudCoverMax': 100,\n",
       "     'cloudCoverMin': 1.24,\n",
       "     'dewPointAvg': 4.89,\n",
       "     'dewPointMax': 7.46,\n",
       "     'dewPointMin': 3.71,\n",
       "     'evapotranspirationAvg': 0.035,\n",
       "     'evapotranspirationMax': 0.066,\n",
       "     'evapotranspirationMin': 0.018,\n",
       "     'evapotranspirationSum': 0.83,\n",
       "     'freezingRainIntensityAvg': 0,\n",
       "     'freezingRainIntensityMax': 0,\n",
       "     'freezingRainIntensityMin': 0,\n",
       "     'humidityAvg': 82.36,\n",
       "     'humidityMax': 93.39,\n",
       "     'humidityMin': 71.29,\n",
       "     'iceAccumulationAvg': 0,\n",
       "     'iceAccumulationLweAvg': 0,\n",
       "     'iceAccumulationLweMax': 0,\n",
       "     'iceAccumulationLweMin': 0,\n",
       "     'iceAccumulationLweSum': 0,\n",
       "     'iceAccumulationMax': 0,\n",
       "     'iceAccumulationMin': 0,\n",
       "     'iceAccumulationSum': 0,\n",
       "     'moonriseTime': '2024-11-14T15:12:51Z',\n",
       "     'moonsetTime': '2024-11-14T05:32:39Z',\n",
       "     'precipitationProbabilityAvg': 0.6,\n",
       "     'precipitationProbabilityMax': 5,\n",
       "     'precipitationProbabilityMin': 0,\n",
       "     'pressureSurfaceLevelAvg': 1019.73,\n",
       "     'pressureSurfaceLevelMax': 1022.11,\n",
       "     'pressureSurfaceLevelMin': 1017.42,\n",
       "     'rainAccumulationAvg': 0.05,\n",
       "     'rainAccumulationLweAvg': 0,\n",
       "     'rainAccumulationLweMax': 0.05,\n",
       "     'rainAccumulationLweMin': 0,\n",
       "     'rainAccumulationMax': 0.38,\n",
       "     'rainAccumulationMin': 0,\n",
       "     'rainAccumulationSum': 1.13,\n",
       "     'rainIntensityAvg': 0.01,\n",
       "     'rainIntensityMax': 0.05,\n",
       "     'rainIntensityMin': 0,\n",
       "     'sleetAccumulationAvg': 0,\n",
       "     'sleetAccumulationLweAvg': 0,\n",
       "     'sleetAccumulationLweMax': 0,\n",
       "     'sleetAccumulationLweMin': 0,\n",
       "     'sleetAccumulationLweSum': 0,\n",
       "     'sleetAccumulationMax': 0,\n",
       "     'sleetAccumulationMin': 0,\n",
       "     'sleetIntensityAvg': 0,\n",
       "     'sleetIntensityMax': 0,\n",
       "     'sleetIntensityMin': 0,\n",
       "     'snowAccumulationAvg': 0,\n",
       "     'snowAccumulationLweAvg': 0,\n",
       "     'snowAccumulationLweMax': 0,\n",
       "     'snowAccumulationLweMin': 0,\n",
       "     'snowAccumulationLweSum': 0,\n",
       "     'snowAccumulationMax': 0,\n",
       "     'snowAccumulationMin': 0,\n",
       "     'snowAccumulationSum': 0,\n",
       "     'snowIntensityAvg': 0,\n",
       "     'snowIntensityMax': 0,\n",
       "     'snowIntensityMin': 0,\n",
       "     'sunriseTime': '2024-11-14T07:09:00Z',\n",
       "     'sunsetTime': '2024-11-14T16:23:00Z',\n",
       "     'temperatureApparentAvg': 7.77,\n",
       "     'temperatureApparentMax': 9.45,\n",
       "     'temperatureApparentMin': 5.4,\n",
       "     'temperatureAvg': 7.77,\n",
       "     'temperatureMax': 9.45,\n",
       "     'temperatureMin': 5.4,\n",
       "     'visibilityAvg': 24.13,\n",
       "     'visibilityMax': 24.14,\n",
       "     'visibilityMin': 24.13,\n",
       "     'weatherCodeMax': 1001,\n",
       "     'weatherCodeMin': 1001,\n",
       "     'windDirectionAvg': 22.6,\n",
       "     'windGustAvg': 5.41,\n",
       "     'windGustMax': 8.91,\n",
       "     'windGustMin': 3.5,\n",
       "     'windSpeedAvg': 2.41,\n",
       "     'windSpeedMax': 4.07,\n",
       "     'windSpeedMin': 1.47}}]},\n",
       " 'location': {'lat': 51.47002, 'lon': -0.454295}}"
      ]
     },
     "execution_count": 9,
     "metadata": {},
     "output_type": "execute_result"
    }
   ],
   "source": [
    "data = response.json()\n",
    "data"
   ]
  },
  {
   "cell_type": "code",
   "execution_count": null,
   "id": "0f020870-e0c4-438c-8023-63ad4392599c",
   "metadata": {},
   "outputs": [],
   "source": [
    "This API provides only a 5-day future forecast along with today's weather. There is no way to specify three days only."
   ]
  },
  {
   "cell_type": "code",
   "execution_count": null,
   "id": "d6434c2c-5ea9-4e5c-8b5a-c6624d3aa966",
   "metadata": {},
   "outputs": [],
   "source": [
    "#8. Print the date of each of the 3 days you're getting a forecast for."
   ]
  },
  {
   "cell_type": "code",
   "execution_count": 48,
   "id": "55e24dfe-5574-43b8-86a2-9d4019d74f24",
   "metadata": {},
   "outputs": [
    {
     "data": {
      "text/plain": [
       "dict_keys(['timelines', 'location'])"
      ]
     },
     "execution_count": 48,
     "metadata": {},
     "output_type": "execute_result"
    }
   ],
   "source": [
    "data.keys()"
   ]
  },
  {
   "cell_type": "code",
   "execution_count": 49,
   "id": "d5c3c243-323a-4841-8c58-249ccbe50b1d",
   "metadata": {},
   "outputs": [
    {
     "data": {
      "text/plain": [
       "dict_keys(['daily'])"
      ]
     },
     "execution_count": 49,
     "metadata": {},
     "output_type": "execute_result"
    }
   ],
   "source": [
    "data['timelines'].keys()"
   ]
  },
  {
   "cell_type": "code",
   "execution_count": 11,
   "id": "f3a3296a-2fd9-48b5-ae53-940638192ab4",
   "metadata": {},
   "outputs": [
    {
     "name": "stdout",
     "output_type": "stream",
     "text": [
      "2024-11-09T06:00:00Z\n",
      "2024-11-10T06:00:00Z\n",
      "2024-11-11T06:00:00Z\n"
     ]
    }
   ],
   "source": [
    "for day in data['timelines']['daily'][:3]:\n",
    "    print(day['time'])"
   ]
  },
  {
   "cell_type": "code",
   "execution_count": null,
   "id": "d3a2673f-bf89-46b2-a23a-90750878a7d1",
   "metadata": {},
   "outputs": [],
   "source": [
    "#9. Print the maximum temperature of each of the days."
   ]
  },
  {
   "cell_type": "code",
   "execution_count": 12,
   "id": "8718420b-91e9-4cbd-8e78-54147dc3235d",
   "metadata": {},
   "outputs": [
    {
     "name": "stdout",
     "output_type": "stream",
     "text": [
      "9.31\n",
      "12.5\n",
      "11.45\n"
     ]
    }
   ],
   "source": [
    "for maxtemp in data['timelines']['daily'][:3]:\n",
    "    print (maxtemp['values']['temperatureMax'])"
   ]
  },
  {
   "cell_type": "code",
   "execution_count": null,
   "id": "4dc5ef0a-d428-4c4f-9825-5cdc958feca4",
   "metadata": {},
   "outputs": [],
   "source": [
    "#10. Print only the day with the highest maximum temperature."
   ]
  },
  {
   "cell_type": "code",
   "execution_count": 13,
   "id": "5ed3db1a-c194-43d7-a88b-7366a41699a9",
   "metadata": {},
   "outputs": [
    {
     "data": {
      "text/plain": [
       "12.5"
      ]
     },
     "execution_count": 13,
     "metadata": {},
     "output_type": "execute_result"
    }
   ],
   "source": [
    "maxtemps = [maxtemp['values']['temperatureMax'] for maxtemp in data['timelines']['daily']]\n",
    "\n",
    "max(maxtemps)"
   ]
  },
  {
   "cell_type": "code",
   "execution_count": null,
   "id": "bb285f42-ec30-4d63-960d-63db7cbcbd61",
   "metadata": {},
   "outputs": [],
   "source": [
    "#11. Did you find this easier or more difficult than using the weatherapi.com, and why? Which would you recommend to someone interesting in building a tool around weather information?"
   ]
  },
  {
   "cell_type": "code",
   "execution_count": null,
   "id": "5b10f539-5d71-4929-9339-33728b0d93de",
   "metadata": {},
   "outputs": [],
   "source": [
    "I found it slightly easier, but I think that's also because I'm getting more used to using loops to extract info from APIs. I liked how Tomorrow provides spaces to fill in parameters with the revised URL appearing on the right side of the page, however."
   ]
  }
 ],
 "metadata": {
  "kernelspec": {
   "display_name": "Python 3 (ipykernel)",
   "language": "python",
   "name": "python3"
  },
  "language_info": {
   "codemirror_mode": {
    "name": "ipython",
    "version": 3
   },
   "file_extension": ".py",
   "mimetype": "text/x-python",
   "name": "python",
   "nbconvert_exporter": "python",
   "pygments_lexer": "ipython3",
   "version": "3.12.7"
  }
 },
 "nbformat": 4,
 "nbformat_minor": 5
}
